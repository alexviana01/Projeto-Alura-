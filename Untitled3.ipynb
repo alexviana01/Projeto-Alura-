{
  "nbformat": 4,
  "nbformat_minor": 0,
  "metadata": {
    "colab": {
      "provenance": [],
      "authorship_tag": "ABX9TyN48jLWajo0AG1NCG76LjCx",
      "include_colab_link": true
    },
    "kernelspec": {
      "name": "python3",
      "display_name": "Python 3"
    },
    "language_info": {
      "name": "python"
    }
  },
  "cells": [
    {
      "cell_type": "markdown",
      "metadata": {
        "id": "view-in-github",
        "colab_type": "text"
      },
      "source": [
        "<a href=\"https://colab.research.google.com/github/alexviana01/Projeto-Alura-/blob/main/Untitled3.ipynb\" target=\"_parent\"><img src=\"https://colab.research.google.com/assets/colab-badge.svg\" alt=\"Open In Colab\"/></a>"
      ]
    },
    {
      "cell_type": "code",
      "source": [
        "# Instala as bibliotecas necessárias\n",
        "# -q para instalação silenciosa\n",
        "%pip -q install google-genai google-adk requests folium # Adicionado folium"
      ],
      "metadata": {
        "id": "0ycNbF7_xkv3"
      },
      "execution_count": null,
      "outputs": []
    },
    {
      "cell_type": "code",
      "execution_count": null,
      "metadata": {
        "colab": {
          "base_uri": "https://localhost:8080/"
        },
        "id": "IJafteBDtF_e",
        "outputId": "d176adbb-14b3-4d55-e6f1-c10ca90acc45"
      },
      "outputs": [
        {
          "output_type": "stream",
          "name": "stdout",
          "text": [
            "\u001b[?25l   \u001b[90m━━━━━━━━━━━━━━━━━━━━━━━━━━━━━━━━━━━━━━━━\u001b[0m \u001b[32m0.0/1.2 MB\u001b[0m \u001b[31m?\u001b[0m eta \u001b[36m-:--:--\u001b[0m\r\u001b[2K   \u001b[91m━━━━━━━━━━━\u001b[0m\u001b[90m╺\u001b[0m\u001b[90m━━━━━━━━━━━━━━━━━━━━━━━━━━━━\u001b[0m \u001b[32m0.3/1.2 MB\u001b[0m \u001b[31m9.7 MB/s\u001b[0m eta \u001b[36m0:00:01\u001b[0m\r\u001b[2K   \u001b[91m━━━━━━━━━━━━━━━━━━━━━━━━━━━━━━━━━━━━━━━\u001b[0m\u001b[91m╸\u001b[0m \u001b[32m1.2/1.2 MB\u001b[0m \u001b[31m18.5 MB/s\u001b[0m eta \u001b[36m0:00:01\u001b[0m\r\u001b[2K   \u001b[90m━━━━━━━━━━━━━━━━━━━━━━━━━━━━━━━━━━━━━━━━\u001b[0m \u001b[32m1.2/1.2 MB\u001b[0m \u001b[31m15.1 MB/s\u001b[0m eta \u001b[36m0:00:00\u001b[0m\n",
            "\u001b[?25h\u001b[?25l   \u001b[90m━━━━━━━━━━━━━━━━━━━━━━━━━━━━━━━━━━━━━━━━\u001b[0m \u001b[32m0.0/232.1 kB\u001b[0m \u001b[31m?\u001b[0m eta \u001b[36m-:--:--\u001b[0m\r\u001b[2K   \u001b[90m━━━━━━━━━━━━━━━━━━━━━━━━━━━━━━━━━━━━━━━━\u001b[0m \u001b[32m232.1/232.1 kB\u001b[0m \u001b[31m21.4 MB/s\u001b[0m eta \u001b[36m0:00:00\u001b[0m\n",
            "\u001b[?25h\u001b[?25l   \u001b[90m━━━━━━━━━━━━━━━━━━━━━━━━━━━━━━━━━━━━━━━━\u001b[0m \u001b[32m0.0/95.2 kB\u001b[0m \u001b[31m?\u001b[0m eta \u001b[36m-:--:--\u001b[0m\r\u001b[2K   \u001b[90m━━━━━━━━━━━━━━━━━━━━━━━━━━━━━━━━━━━━━━━━\u001b[0m \u001b[32m95.2/95.2 kB\u001b[0m \u001b[31m9.8 MB/s\u001b[0m eta \u001b[36m0:00:00\u001b[0m\n",
            "\u001b[?25h\u001b[?25l   \u001b[90m━━━━━━━━━━━━━━━━━━━━━━━━━━━━━━━━━━━━━━━━\u001b[0m \u001b[32m0.0/217.1 kB\u001b[0m \u001b[31m?\u001b[0m eta \u001b[36m-:--:--\u001b[0m\r\u001b[2K   \u001b[90m━━━━━━━━━━━━━━━━━━━━━━━━━━━━━━━━━━━━━━━━\u001b[0m \u001b[32m217.1/217.1 kB\u001b[0m \u001b[31m22.4 MB/s\u001b[0m eta \u001b[36m0:00:00\u001b[0m\n",
            "\u001b[?25h\u001b[?25l   \u001b[90m━━━━━━━━━━━━━━━━━━━━━━━━━━━━━━━━━━━━━━━━\u001b[0m \u001b[32m0.0/334.1 kB\u001b[0m \u001b[31m?\u001b[0m eta \u001b[36m-:--:--\u001b[0m\r\u001b[2K   \u001b[90m━━━━━━━━━━━━━━━━━━━━━━━━━━━━━━━━━━━━━━━━\u001b[0m \u001b[32m334.1/334.1 kB\u001b[0m \u001b[31m30.8 MB/s\u001b[0m eta \u001b[36m0:00:00\u001b[0m\n",
            "\u001b[2K   \u001b[90m━━━━━━━━━━━━━━━━━━━━━━━━━━━━━━━━━━━━━━━━\u001b[0m \u001b[32m125.1/125.1 kB\u001b[0m \u001b[31m13.0 MB/s\u001b[0m eta \u001b[36m0:00:00\u001b[0m\n",
            "\u001b[2K   \u001b[90m━━━━━━━━━━━━━━━━━━━━━━━━━━━━━━━━━━━━━━━━\u001b[0m \u001b[32m65.8/65.8 kB\u001b[0m \u001b[31m6.1 MB/s\u001b[0m eta \u001b[36m0:00:00\u001b[0m\n",
            "\u001b[2K   \u001b[90m━━━━━━━━━━━━━━━━━━━━━━━━━━━━━━━━━━━━━━━━\u001b[0m \u001b[32m119.0/119.0 kB\u001b[0m \u001b[31m12.6 MB/s\u001b[0m eta \u001b[36m0:00:00\u001b[0m\n",
            "\u001b[2K   \u001b[90m━━━━━━━━━━━━━━━━━━━━━━━━━━━━━━━━━━━━━━━━\u001b[0m \u001b[32m194.9/194.9 kB\u001b[0m \u001b[31m19.6 MB/s\u001b[0m eta \u001b[36m0:00:00\u001b[0m\n",
            "\u001b[2K   \u001b[90m━━━━━━━━━━━━━━━━━━━━━━━━━━━━━━━━━━━━━━━━\u001b[0m \u001b[32m62.5/62.5 kB\u001b[0m \u001b[31m6.2 MB/s\u001b[0m eta \u001b[36m0:00:00\u001b[0m\n",
            "\u001b[2K   \u001b[90m━━━━━━━━━━━━━━━━━━━━━━━━━━━━━━━━━━━━━━━━\u001b[0m \u001b[32m103.3/103.3 kB\u001b[0m \u001b[31m10.3 MB/s\u001b[0m eta \u001b[36m0:00:00\u001b[0m\n",
            "\u001b[2K   \u001b[90m━━━━━━━━━━━━━━━━━━━━━━━━━━━━━━━━━━━━━━━━\u001b[0m \u001b[32m44.4/44.4 kB\u001b[0m \u001b[31m4.2 MB/s\u001b[0m eta \u001b[36m0:00:00\u001b[0m\n",
            "\u001b[2K   \u001b[90m━━━━━━━━━━━━━━━━━━━━━━━━━━━━━━━━━━━━━━━━\u001b[0m \u001b[32m72.0/72.0 kB\u001b[0m \u001b[31m7.7 MB/s\u001b[0m eta \u001b[36m0:00:00\u001b[0m\n",
            "\u001b[?25h✅ API Key configurada e cliente Gemini inicializado.\n",
            "✨ Modelo Gemini selecionado: gemini-2.0-flash\n",
            "�� Data atual: 17/05/2025\n"
          ]
        }
      ],
      "source": [
        "# Instala as bibliotecas necessárias\n",
        "# -q para instalação silenciosa\n",
        "%pip -q install google-genai google-adk requests\n",
        "\n",
        "# Importa as bibliotecas\n",
        "import os\n",
        "from google.colab import userdata\n",
        "from google import genai\n",
        "from google.adk.agents import Agent\n",
        "from google.adk.runners import Runner\n",
        "from google.adk.sessions import InMemorySessionService\n",
        "from google.adk.tools import google_search # Ferramenta de busca do Google\n",
        "from google.genai import types  # Para criar conteúdos (Content e Part)\n",
        "from datetime import date\n",
        "import textwrap # Para formatar melhor a saída de texto\n",
        "from IPython.display import display, Markdown, HTML # Para exibir texto formatado no Colab\n",
        "import requests # Para fazer requisições HTTP (útil para futuras integrações com APIs externas)\n",
        "import warnings\n",
        "\n",
        "# Ignora warnings para manter a saída mais limpa\n",
        "warnings.filterwarnings(\"ignore\")\n",
        "\n",
        "# Configura a API Key do Google Gemini\n",
        "# A chave deve estar armazenada nos 'Secrets' do Google Colab com o nome 'GOOGLE_API_KEY'\n",
        "# Nunca exponha sua chave de API diretamente no código!\n",
        "try:\n",
        "    os.environ[\"GOOGLE_API_KEY\"] = userdata.get('GOOGLE_API_KEY')\n",
        "    # Inicializa o cliente Gemini\n",
        "    client = genai.Client()\n",
        "    print(\"✅ API Key configurada e cliente Gemini inicializado.\")\n",
        "except Exception as e:\n",
        "    print(f\"❌ Erro ao configurar a API Key ou inicializar o cliente Gemini: {e}\")\n",
        "    print(\"Por favor, verifique se a chave 'GOOGLE_API_KEY' está configurada nos Secrets do Colab.\")\n",
        "\n",
        "# Define o modelo Gemini a ser utilizado\n",
        "# O modelo 'gemini-2.0-flash' é rápido e econômico, bom para este tipo de tarefa.\n",
        "# Para tarefas mais complexas, 'gemini-2.5-pro' pode ser uma opção.\n",
        "MODEL_ID = \"gemini-2.0-flash\"\n",
        "print(f\"✨ Modelo Gemini selecionado: {MODEL_ID}\")\n",
        "\n",
        "# Obtém a data atual para usar nas buscas, se necessário\n",
        "data_de_hoje = date.today().strftime(\"%d/%m/%Y\")\n",
        "print(f\"�� Data atual: {data_de_hoje}\")"
      ]
    },
    {
      "cell_type": "code",
      "source": [
        "# Função auxiliar que envia uma mensagem para um agente via Runner e retorna a resposta final\n",
        "# Esta função simula a execução de um agente em uma sessão.\n",
        "def call_agent(agent: Agent, message_text: str) -> str:\n",
        "    \"\"\"\n",
        "    Executa um agente com uma mensagem de entrada e retorna a resposta final.\n",
        "\n",
        "    Args:\n",
        "        agent: A instância do Agente a ser executado.\n",
        "        message_text: O texto da mensagem de entrada para o agente.\n",
        "\n",
        "    Returns:\n",
        "        A resposta final gerada pelo agente como uma string.\n",
        "    \"\"\"\n",
        "    # Cria um serviço de sessão em memória.\n",
        "    # Em um sistema real, isso poderia ser um banco de dados para manter o histórico.\n",
        "    session_service = InMemorySessionService()\n",
        "    # Cria uma nova sessão para a interação.\n",
        "    session = session_service.create_session(app_name=agent.name, user_id=\"user1\", session_id=\"session1\")\n",
        "    # Cria um Runner para o agente, que gerencia a execução e a interação com as ferramentas.\n",
        "    runner = Runner(agent=agent, app_name=agent.name, session_service=session_service)\n",
        "    # Cria o conteúdo da mensagem de entrada no formato esperado pelo Gemini/ADK.\n",
        "    content = types.Content(role=\"user\", parts=[types.Part(text=message_text)])\n",
        "\n",
        "    final_response = \"\"\n",
        "    print(f\"🤖 Executando Agente: {agent.name}...\")\n",
        "    # Itera assincronamente pelos eventos retornados durante a execução do agente.\n",
        "    # Eventos podem incluir chamadas de ferramentas, pensamentos do modelo, e a resposta final.\n",
        "    try:\n",
        "        for event in runner.run(user_id=\"user1\", session_id=\"session1\", new_message=content):\n",
        "            # Verifica se o evento é a resposta final do agente.\n",
        "            if event.is_final_response():\n",
        "              for part in event.content.parts:\n",
        "                if part.text is not None:\n",
        "                  final_response += part.text\n",
        "                  final_response += \"\\n\"\n",
        "            # Opcional: Imprimir outros eventos para debug, como chamadas de ferramentas.\n",
        "            # elif event.is_tool_code():\n",
        "            #     print(f\"🛠️ Chamada de Ferramenta: {event.tool_code.tool_name} com args {event.tool_code.args}\")\n",
        "            # elif event.is_tool_result():\n",
        "            #     print(f\"✅ Resultado da Ferramenta: {event.tool_result.output}\")\n",
        "            # elif event.is_model_thought():\n",
        "            #      print(f\"🧠 Pensamento do Modelo: {event.model_thought.text}\")\n",
        "\n",
        "        print(f\"✅ Execução do Agente {agent.name} concluída.\")\n",
        "    except Exception as e:\n",
        "        print(f\"❌ Erro durante a execução do Agente {agent.name}: {e}\")\n",
        "        final_response = f\"Ocorreu um erro ao processar sua solicitação com o agente {agent.name}. Detalhes: {e}\"\n",
        "\n",
        "    return final_response\n",
        "\n",
        "# Função auxiliar para exibir texto formatado em Markdown no Colab\n",
        "# Melhora a visualização da saída dos agentes.\n",
        "def to_markdown(text):\n",
        "  \"\"\"\n",
        "  Formata uma string para exibição em Markdown no Google Colab.\n",
        "\n",
        "  Args:\n",
        "      text: A string a ser formatada.\n",
        "\n",
        "  Returns:\n",
        "      Um objeto Markdown para exibição.\n",
        "  \"\"\"\n",
        "  # Substitui marcadores comuns por formatação de lista Markdown\n",
        "  text = text.replace('•', '  *')\n",
        "  # Adiciona indentação para destacar a resposta do agente\n",
        "  return Markdown(textwrap.indent(text, '> ', predicate=lambda _: True))\n",
        "\n",
        "# Função para exibir informações de busca (opcional, adaptada do original)\n",
        "def display_search_info(response):\n",
        "    \"\"\"\n",
        "    Exibe informações sobre a busca realizada pelo agente, se disponível.\n",
        "\n",
        "    Args:\n",
        "        response: O objeto de resposta do agente.\n",
        "    \"\"\"\n",
        "    try:\n",
        "        if response and response.candidates and response.candidates[0].grounding_metadata:\n",
        "            print(f\"�� Busca realizada: {response.candidates[0].grounding_metadata.web_search_queries}\")\n",
        "            # Exibe as URLs nas quais ele se baseou (se houver grounding chunks)\n",
        "            if response.candidates[0].grounding_metadata.grounding_chunks:\n",
        "                 print(f\"�� Páginas utilizadas na resposta: {', '.join([site.web.title for site in response.candidates[0].grounding_metadata.grounding_chunks if site.web])}\")\n",
        "            print()\n",
        "            # Exibe o conteúdo renderizado da busca (se disponível)\n",
        "            if response.candidates[0].grounding_metadata.search_entry_point:\n",
        "                 display(HTML(response.candidates[0].grounding_metadata.search_entry_point.rendered_content))\n",
        "        else:\n",
        "            print(\"ℹ️ Nenhuma informação de busca disponível para esta resposta.\")\n",
        "    except Exception as e:\n",
        "        print(f\"⚠️ Não foi possível exibir as informações de busca: {e}\")\n"
      ],
      "metadata": {
        "id": "BEge32D4t2VL"
      },
      "execution_count": null,
      "outputs": []
    },
    {
      "cell_type": "code",
      "source": [
        "#####################################################\n",
        "# --- Agente 1: Buscador de Farmácias Próximas --- #\n",
        "#####################################################\n",
        "\n",
        "def agente_farmacias_proximas(medicamento: str, localizacao: str) -> str:\n",
        "    \"\"\"\n",
        "    Agente que busca farmácias próximas a uma localização e seus telefones.\n",
        "\n",
        "    Args:\n",
        "        medicamento: O nome do medicamento (para contextualizar a busca).\n",
        "        localizacao: A localização do usuário (cidade, bairro, CEP, etc.).\n",
        "\n",
        "    Returns:\n",
        "        Uma string formatada com a lista de farmácias encontradas e seus telefones.\n",
        "    \"\"\"\n",
        "    buscador_farmacias = Agent(\n",
        "        name=\"agente_buscador_farmacias\",\n",
        "        model=MODEL_ID, # Utiliza o modelo flash para rapidez\n",
        "        instruction=f\"\"\"\n",
        "        Você é um assistente de localização de farmácias. Sua tarefa é usar a ferramenta de busca do Google (google_search)\n",
        "        para encontrar farmácias próximas à localização fornecida pelo usuário.\n",
        "        Busque por \"farmácias perto de {localizacao}\" ou \"farmácias em {localizacao}\".\n",
        "        Para cada farmácia encontrada nos resultados da busca, tente identificar e extrair o nome, endereço e, **principalmente, o número de telefone**.\n",
        "        Liste as farmácias encontradas com seus telefones de forma clara.\n",
        "        Se não encontrar telefones para algumas farmácias, indique isso.\n",
        "        Se não encontrar nenhuma farmácia na busca, informe o usuário.\n",
        "        Foque em listar as farmácias que parecem mais relevantes ou próximas com base nos resultados da busca.\n",
        "        \"\"\",\n",
        "        description=\"Agente que busca farmácias próximas e seus telefones usando Google Search.\",\n",
        "        tools=[google_search] # Habilita a ferramenta de busca do Google\n",
        "    )\n",
        "\n",
        "    # A entrada para o agente é a solicitação do usuário com os dados contextuais\n",
        "    entrada_do_agente = f\"Encontre farmácias perto de {localizacao} que possam ter {medicamento}. Liste os nomes, endereços e telefones.\"\n",
        "\n",
        "    # Executa o agente e obtém a resposta\n",
        "    resultados_busca = call_agent(buscador_farmacias, entrada_do_agente)\n",
        "\n",
        "    # Nota: Para uma integração real com Google Maps, seria necessário usar a API Places\n",
        "    # para buscar locais por tipo (farmácia) e localização, e então obter detalhes\n",
        "    # como telefone e horário de funcionamento. O google_search aqui simula essa busca\n",
        "    # interpretando os resultados da web.\n",
        "\n",
        "    return resultados_busca\n"
      ],
      "metadata": {
        "id": "ZolY5woguHj1"
      },
      "execution_count": null,
      "outputs": []
    },
    {
      "cell_type": "code",
      "source": [
        "########################################################\n",
        "# --- Agente 2: Comparador de Preços de Medicamentos --- #\n",
        "########################################################\n",
        "\n",
        "def agente_comparador_precos(medicamento: str) -> str:\n",
        "    \"\"\"\n",
        "    Agente que busca e compara preços de um medicamento usando Google Search.\n",
        "\n",
        "    Args:\n",
        "        medicamento: O nome do medicamento a ser pesquisado.\n",
        "\n",
        "    Returns:\n",
        "        Uma string formatada com os preços encontrados e a opção mais barata.\n",
        "    \"\"\"\n",
        "    comparador_precos = Agent(\n",
        "        name=\"agente_comparador_precos\",\n",
        "        model=MODEL_ID, # Utiliza o modelo flash\n",
        "        instruction=f\"\"\"\n",
        "        Você é um assistente de comparação de preços de medicamentos. Sua tarefa é usar a ferramenta de busca do Google (google_search)\n",
        "        para encontrar o preço do medicamento \"{medicamento}\" em diferentes farmácias online, sites de comparação de preços ou outras fontes confiáveis.\n",
        "        Busque por \"{medicamento} preço\", \"{medicamento} onde comprar mais barato\", etc.\n",
        "        Analise os resultados da busca para identificar os preços listados e as fontes (farmácias, sites).\n",
        "        Liste os preços encontrados, indicando a fonte (nome da farmácia/site).\n",
        "        **Identifique claramente a opção mais barata encontrada** e mencione a fonte.\n",
        "        Se não encontrar informações de preço, informe o usuário.\n",
        "        \"\"\",\n",
        "        description=\"Agente que busca e compara preços de medicamentos usando Google Search.\",\n",
        "        tools=[google_search] # Habilita a ferramenta de busca do Google\n",
        "    )\n",
        "\n",
        "    # A entrada para o agente é o nome do medicamento\n",
        "    entrada_do_agente = f\"Compare os preços do medicamento {medicamento} e encontre a opção mais barata.\"\n",
        "\n",
        "    # Executa o agente e obtém a resposta\n",
        "    resultados_comparacao = call_agent(comparador_precos, entrada_do_agente)\n",
        "\n",
        "    # Nota: A precisão da comparação depende da qualidade e estrutura dos resultados\n",
        "    # retornados pelo google_search. Sites de comparação de preços dedicados ou APIs\n",
        "    # específicas de farmácias seriam mais precisos para este fim.\n",
        "\n",
        "    return resultados_comparacao\n"
      ],
      "metadata": {
        "id": "_8Um3ppNuRXc"
      },
      "execution_count": null,
      "outputs": []
    },
    {
      "cell_type": "code",
      "source": [
        "##########################################\n",
        "# --- Fluxo Principal de Execução --- #\n",
        "##########################################\n",
        "\n",
        "print(\"🚀 Iniciando o Sistema de Busca de Medicamentos e Farmácias 🚀\")\n",
        "\n",
        "# --- Obter Entradas do Usuário ---\n",
        "# Solicita o nome do medicamento\n",
        "medicamento_busca = input(\"❓ Por favor, digite o NOME do medicamento que você procura: \")\n",
        "\n",
        "# Solicita a localização do usuário\n",
        "localizacao_usuario = input(\"📍 Por favor, digite sua LOCALIZAÇÃO (ex: 'São Paulo, Vila Mariana', 'CEP 01001-000'): \")\n",
        "\n",
        "# Verifica se as entradas foram fornecidas\n",
        "if not medicamento_busca or not localizacao_usuario:\n",
        "    print(\"❌ Você esqueceu de digitar o nome do medicamento ou sua localização!\")\n",
        "else:\n",
        "    print(f\"\\nMaravilha! Vamos buscar informações sobre '{medicamento_busca}' perto de '{localizacao_usuario}'.\")\n",
        "\n",
        "    # --- Etapa 1: Buscar Farmácias Próximas ---\n",
        "    print(\"\\n--- 🏥 Executando Agente 1 (Buscador de Farmácias) ---\")\n",
        "    farmacias_encontradas = agente_farmacias_proximas(medicamento_busca, localizacao_usuario)\n",
        "    print(\"\\n--- ✅ Resultado do Agente 1 (Farmácias Encontradas) ---\\n\")\n",
        "    display(to_markdown(farmacias_encontradas))\n",
        "    print(\"--------------------------------------------------------------\")\n",
        "\n",
        "    # --- Etapa 2: Comparar Preços do Medicamento ---\n",
        "    print(\"\\n--- 💰 Executando Agente 2 (Comparador de Preços) ---\")\n",
        "    # Poderíamos passar a lista de farmácias encontradas para o Agente 2 refinar a busca,\n",
        "    # mas para simplificar e focar na busca geral, passamos apenas o nome do medicamento.\n",
        "    precos_comparados = agente_comparador_precos(medicamento_busca)\n",
        "    print(\"\\n--- ✅ Resultado do Agente 2 (Comparação de Preços) ---\\n\")\n",
        "    display(to_markdown(precos_comparados))\n",
        "    print(\"--------------------------------------------------------------\")\n",
        "\n",
        "    print(\"\\n🎉 Processo concluído!\")\n",
        "    print(\"Lembre-se que os resultados dependem da informação disponível publicamente no Google Search.\")\n",
        "\n",
        "\n"
      ],
      "metadata": {
        "colab": {
          "base_uri": "https://localhost:8080/",
          "height": 1000
        },
        "id": "TdBNpdXK2s_R",
        "outputId": "1bd5dade-e97c-45fd-dfd2-067a0ae147e2"
      },
      "execution_count": null,
      "outputs": [
        {
          "output_type": "stream",
          "name": "stdout",
          "text": [
            "🚀 Iniciando o Sistema de Busca de Medicamentos e Farmácias 🚀\n",
            "❓ Por favor, digite o NOME do medicamento que você procura: Depakote\n",
            "📍 Por favor, digite sua LOCALIZAÇÃO (ex: 'São Paulo, Vila Mariana', 'CEP 01001-000'): 24230540\n",
            "\n",
            "Maravilha! Vamos buscar informações sobre 'Depakote' perto de '24230540'.\n",
            "\n",
            "--- 🏥 Executando Agente 1 (Buscador de Farmácias) ---\n",
            "🤖 Executando Agente: agente_buscador_farmacias...\n",
            "✅ Execução do Agente agente_buscador_farmacias concluída.\n",
            "\n",
            "--- ✅ Resultado do Agente 1 (Farmácias Encontradas) ---\n",
            "\n"
          ]
        },
        {
          "output_type": "display_data",
          "data": {
            "text/plain": [
              "<IPython.core.display.Markdown object>"
            ],
            "text/markdown": "> Com base na sua localização (CEP 24230-540), aqui estão algumas opções de farmácias na área:\n> \n> *   **Farmácia (na Rua Joaquim Távora)**: Na Rua Joaquim Távora, lado par, em Icaraí, Niterói, há estabelecimentos como farmácias. Para obter informações mais específicas sobre farmácias nessa rua e se elas têm Depakote em estoque, pode ser necessário pesquisar individualmente ou entrar em contato com as farmácias locais.\n> *   **Farmacia Do Trabalhador Do Brasil (no Centro)**: O snippet menciona a \"Farmacia Do Trabalhador Do Brasil\" no Centro. No entanto, não há detalhes de contato ou endereço exato fornecidos neste resultado.\n> \n> É importante verificar diretamente com as farmácias se elas possuem o medicamento Depakote em estoque e confirmar os horários de funcionamento.\n> \n"
          },
          "metadata": {}
        },
        {
          "output_type": "stream",
          "name": "stdout",
          "text": [
            "--------------------------------------------------------------\n",
            "\n",
            "--- 💰 Executando Agente 2 (Comparador de Preços) ---\n",
            "🤖 Executando Agente: agente_comparador_precos...\n",
            "✅ Execução do Agente agente_comparador_precos concluída.\n",
            "\n",
            "--- ✅ Resultado do Agente 2 (Comparação de Preços) ---\n",
            "\n"
          ]
        },
        {
          "output_type": "display_data",
          "data": {
            "text/plain": [
              "<IPython.core.display.Markdown object>"
            ],
            "text/markdown": "> Encontrei os seguintes preços para o medicamento Depakote em diferentes farmácias online:\n> \n> *   **Drogaria Sao Paulo:**\n>     *   Depakote ER 250mg Abbott 60 Comprimidos: A partir de R$ 105,00\n>     *   Depakote ER 500mg Abbott 60 Comprimidos: A partir de R$ 213,13\n>     *   Depakote 250mg Abbott 30 Comprimidos: R$ 68,99\n>     *   Depakote 500mg Abbott 30 Comprimidos: R$ 121,99\n>     *   Depakote 125mg Abbott 60 Cápsulas: R$68,99\n>     *   Depakote Sprinkle 125mg Abbott 30 Cápsulas: R$40,99\n> \n> *   **CallFarma:**\n>     *   Depakote Sprinkle 125 mg caixa com 60 cápsulas: R$75,75\n>     *   Depakote ER 250 mg com 60 comprimidos: R$ 143,74\n> \n> *   **Drogasil:**\n>     *   Depakote ER Divalproato de Sódio 500mg 60 comprimidos: R$ 213,14\n> \n> *   **PharmacyChecker.com:**\n>     *   Depakote (divalproex) 125 mg: $0.73 por tablet (para 300 tablets)\n> \n> **Opção mais barata encontrada:**\n> \n> *   **Depakote Sprinkle 125mg Abbott 30 Cápsulas na Drogaria Sao Paulo por R$40,99**.\n> \n"
          },
          "metadata": {}
        },
        {
          "output_type": "stream",
          "name": "stdout",
          "text": [
            "--------------------------------------------------------------\n",
            "\n",
            "🎉 Processo concluído!\n",
            "Lembre-se que os resultados dependem da informação disponível publicamente no Google Search.\n"
          ]
        }
      ]
    }
  ]
}